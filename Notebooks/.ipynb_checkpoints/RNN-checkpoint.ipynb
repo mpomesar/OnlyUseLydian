{
 "cells": [
  {
   "cell_type": "code",
   "execution_count": 1,
   "metadata": {
    "pycharm": {
     "is_executing": false
    }
   },
   "outputs": [],
   "source": [
    "import torch\n",
    "import torch.nn as nn\n",
    "from torch.autograd import Variable\n",
    "from torch import Tensor\n",
    "\n",
    "import numpy as np\n",
    "import matplotlib.pyplot as plt"
   ]
  },
  {
   "cell_type": "markdown",
   "metadata": {
    "pycharm": {
     "is_executing": false,
     "name": "#%% md\n"
    }
   },
   "source": [
    "# Example Sequence"
   ]
  },
  {
   "cell_type": "code",
   "execution_count": 2,
   "metadata": {
    "collapsed": false,
    "jupyter": {
     "outputs_hidden": false
    },
    "pycharm": {
     "is_executing": false,
     "name": "#%% \n"
    }
   },
   "outputs": [
    {
     "name": "stdout",
     "output_type": "stream",
     "text": [
      "[False, True, True, False]\n",
      "[True, True, False, True]\n",
      "[False, False, True, False]\n",
      "[True, False, True, True]\n",
      "[False, True, True, True]\n",
      "[True, True, False, False]\n",
      "[False, False, True, True]\n",
      "[True, False, True, True]\n",
      "[False, True, True, True]\n",
      "[True, True, False, False]\n",
      "[False, False, True, True]\n",
      "[True, False, True, True]\n",
      "[False, True, True, True]\n",
      "[True, True, False, False]\n",
      "[False, False, True, True]\n",
      "[True, False, True, True]\n",
      "[False, True, True, True]\n",
      "[True, True, False, False]\n",
      "[False, False, True, True]\n",
      "[True, False, True, True]\n",
      "[False, True, True, True]\n"
     ]
    },
    {
     "data": {
      "text/plain": [
       "<matplotlib.image.AxesImage at 0x1e7eb55e278>"
      ]
     },
     "execution_count": 2,
     "metadata": {},
     "output_type": "execute_result"
    },
    {
     "data": {
      "image/png": "[encoded data removed]",
      "text/plain": [
       "<Figure size 288x1152 with 1 Axes>"
      ]
     },
     "metadata": {
      "needs_background": "light"
     },
     "output_type": "display_data"
    }
   ],
   "source": [
    "seq = [[False, True, True, False]]\n",
    "print(seq[0])\n",
    "\n",
    "for i in range(20):\n",
    "    last = seq[i]\n",
    "    new = [\n",
    "        not(last[0]),\n",
    "        last[0] != last[1],\n",
    "        last[2] != last[1],\n",
    "        not(last[3]) & last[1],\n",
    "    ]\n",
    "    \n",
    "    print(new)\n",
    "    seq.append(new)\n",
    "plt.matshow(seq)"
   ]
  },
  {
   "cell_type": "code",
   "execution_count": 2,
   "metadata": {
    "collapsed": false,
    "jupyter": {
     "outputs_hidden": false
    },
    "pycharm": {
     "is_executing": false,
     "name": "#%%\n"
    }
   },
   "outputs": [],
   "source": []
  },
  {
   "cell_type": "markdown",
   "metadata": {
    "pycharm": {
     "is_executing": false,
     "name": "#%% md\n"
    }
   },
   "source": [
    "# Define Network"
   ]
  },
  {
   "cell_type": "code",
   "execution_count": 11,
   "metadata": {
    "collapsed": false,
    "jupyter": {
     "outputs_hidden": false
    },
    "pycharm": {
     "is_executing": false,
     "name": "#%% \n"
    }
   },
   "outputs": [
    {
     "data": {
      "text/plain": [
       "(tensor([[[0.4361, 0.4468, 0.4354, 0.3997]]], grad_fn=<SigmoidBackward>),\n",
       " tensor([[[ 0.2660,  0.2482,  0.2837, -0.0547, -0.2308, -0.1209,  0.2190,\n",
       "            0.4544,  0.2326, -0.2322]]], grad_fn=<StackBackward>))"
      ]
     },
     "execution_count": 11,
     "metadata": {},
     "output_type": "execute_result"
    }
   ],
   "source": [
    "class NetworkLSTM(nn.Module):\n",
    "    \n",
    "    input_size = 1\n",
    "    output_size = 4;\n",
    "    hidden_size = 4;\n",
    "    num_layers=4;\n",
    "    \n",
    "    def __init__(self):\n",
    "        super().__init__()\n",
    "        self.lstm = nn.LSTM(\n",
    "            input_size=self.input_size,\n",
    "            hidden_size=self.hidden_size,\n",
    "            num_layers=self.num_layers,\n",
    "            bias=True,\n",
    "            batch_first=False,\n",
    "            dropout=1,\n",
    "            bidirectional=False\n",
    "        )\n",
    "        \n",
    "        \n",
    "    def forward(self, x, hc):\n",
    "        output , (h, c) = self.lstm(x, hc)\n",
    "        output = nn.functional.sigmoid(output)\n",
    "        return output, (h, c)\n",
    "    \n",
    "    def getInitialStates(self):\n",
    "        c0 = Variable(torch.zeros(self.num_layers,1, self.hidden_size))\n",
    "        h0 = Variable(torch.zeros(self.num_layers,1, self.hidden_size))\n",
    "        return (h0, c0)\n",
    "    \n",
    "class NetworkRNN(nn.Module):\n",
    "    \n",
    "    input_size = 4\n",
    "    output_size = 4;\n",
    "    hidden_size = 10;\n",
    "    num_layers=1;\n",
    "    \n",
    "    def __init__(self):\n",
    "        super().__init__()\n",
    "        self.rnn = nn.RNN(\n",
    "            input_size=self.input_size,\n",
    "            hidden_size=self.hidden_size,\n",
    "            num_layers=self.num_layers,\n",
    "            dropout=0.1,\n",
    "        )\n",
    "        \n",
    "        self.Linear = nn.Linear(\n",
    "            in_features=self.hidden_size,\n",
    "            out_features=self.output_size,\n",
    "            bias=True\n",
    "        )\n",
    "        \n",
    "        \n",
    "    def forward(self, x, h):\n",
    "        output , h = self.rnn(x, h)\n",
    "        output = nn.functional.sigmoid(output)\n",
    "        output = self.Linear(output)\n",
    "        output = nn.functional.sigmoid(output)\n",
    "        return output, h\n",
    "    \n",
    "    def getInitialStates(self):\n",
    "        h0 = Variable(torch.zeros(self.num_layers,1, self.hidden_size))\n",
    "        return h0\n",
    "\n",
    "Network = NetworkRNN\n",
    "\n",
    "net = Network()\n",
    "state= net.getInitialStates()\n",
    "input = Tensor(torch.zeros(1,1,4))\n",
    "net(input, state)"
   ]
  },
  {
   "cell_type": "markdown",
   "metadata": {},
   "source": [
    "# Net without training"
   ]
  },
  {
   "cell_type": "code",
   "execution_count": 13,
   "metadata": {
    "collapsed": false,
    "jupyter": {
     "outputs_hidden": false
    },
    "pycharm": {
     "is_executing": false,
     "name": "#%%\n"
    }
   },
   "outputs": [
    {
     "name": "stdout",
     "output_type": "stream",
     "text": [
      "tensor([[[0.5567, 0.5146, 0.3909, 0.4827]]], grad_fn=<SigmoidBackward>)\n",
      "tensor([[[0.5532, 0.5177, 0.3995, 0.4883]]], grad_fn=<SigmoidBackward>)\n",
      "tensor([[[0.5498, 0.5182, 0.3981, 0.4877]]], grad_fn=<SigmoidBackward>)\n",
      "tensor([[[0.5498, 0.5169, 0.3981, 0.4875]]], grad_fn=<SigmoidBackward>)\n",
      "tensor([[[0.5499, 0.5176, 0.3984, 0.4879]]], grad_fn=<SigmoidBackward>)\n",
      "tensor([[[0.5496, 0.5174, 0.3985, 0.4875]]], grad_fn=<SigmoidBackward>)\n",
      "tensor([[[0.5497, 0.5175, 0.3984, 0.4877]]], grad_fn=<SigmoidBackward>)\n",
      "tensor([[[0.5496, 0.5174, 0.3985, 0.4876]]], grad_fn=<SigmoidBackward>)\n",
      "tensor([[[0.5497, 0.5175, 0.3985, 0.4877]]], grad_fn=<SigmoidBackward>)\n",
      "tensor([[[0.5497, 0.5175, 0.3985, 0.4876]]], grad_fn=<SigmoidBackward>)\n",
      "tensor([[[0.5497, 0.5175, 0.3985, 0.4876]]], grad_fn=<SigmoidBackward>)\n",
      "tensor([[[0.5497, 0.5175, 0.3985, 0.4876]]], grad_fn=<SigmoidBackward>)\n",
      "tensor([[[0.5497, 0.5175, 0.3985, 0.4876]]], grad_fn=<SigmoidBackward>)\n",
      "tensor([[[0.5497, 0.5175, 0.3985, 0.4876]]], grad_fn=<SigmoidBackward>)\n",
      "tensor([[[0.5497, 0.5175, 0.3985, 0.4876]]], grad_fn=<SigmoidBackward>)\n",
      "tensor([[[0.5497, 0.5175, 0.3985, 0.4876]]], grad_fn=<SigmoidBackward>)\n",
      "tensor([[[0.5497, 0.5175, 0.3985, 0.4876]]], grad_fn=<SigmoidBackward>)\n",
      "tensor([[[0.5497, 0.5175, 0.3985, 0.4876]]], grad_fn=<SigmoidBackward>)\n",
      "tensor([[[0.5497, 0.5175, 0.3985, 0.4876]]], grad_fn=<SigmoidBackward>)\n",
      "tensor([[[0.5497, 0.5175, 0.3985, 0.4876]]], grad_fn=<SigmoidBackward>)\n"
     ]
    }
   ],
   "source": [
    "net = Network()\n",
    "\n",
    "state = net.getInitialStates()\n",
    "for x in range(20):\n",
    "    input = Tensor(torch.zeros(1,1,4))\n",
    "    output, state = net(input, state)\n",
    "    print(output)"
   ]
  },
  {
   "cell_type": "markdown",
   "metadata": {
    "pycharm": {
     "name": "#%% md\n"
    }
   },
   "source": [
    "# Training"
   ]
  },
  {
   "cell_type": "code",
   "execution_count": 31,
   "metadata": {
    "collapsed": false,
    "jupyter": {
     "outputs_hidden": false
    },
    "pycharm": {
     "is_executing": false,
     "name": "#%%\n"
    }
   },
   "outputs": [],
   "source": [
    "net = Network()\n",
    "\n",
    "criterion = nn.BCELoss()\n",
    "optimizer = torch.optim.Adam(net.parameters(), lr=0.002)\n",
    "\n",
    "losses = [];\n",
    "\n",
    "for epoch in range(240):\n",
    "    state = net.getInitialStates()\n",
    "    total_loss = 0;\n",
    "    input = torch.rand(1,1,4)\n",
    "    for i,timestep in enumerate(seq):\n",
    "        timestep = Tensor(timestep)\n",
    "        output, state = net(input, state)\n",
    "        loss = criterion(output, timestep)\n",
    "        input=timestep.view(1,1,4)\n",
    "        loss.backward(retain_graph=True)\n",
    "        total_loss += loss;\n",
    "        losses.append(total_loss)\n",
    "        optimizer.step()\n",
    "        optimizer.zero_grad()\n"
   ]
  },
  {
   "cell_type": "code",
   "execution_count": 23,
   "metadata": {},
   "outputs": [
    {
     "name": "stdout",
     "output_type": "stream",
     "text": [
      "tensor([[[0., 1., 1., 1.]]])\n",
      "tensor([[[0.4082, 0.8968, 0.1681, 0.4063]]])\n"
     ]
    }
   ],
   "source": [
    "print(timestep.view(1,1,4))\n",
    "print(input)"
   ]
  },
  {
   "cell_type": "code",
   "execution_count": 29,
   "metadata": {
    "collapsed": false,
    "jupyter": {
     "outputs_hidden": false
    },
    "pycharm": {
     "is_executing": false,
     "name": "#%%\n"
    }
   },
   "outputs": [
    {
     "data": {
      "text/plain": [
       "[<matplotlib.lines.Line2D at 0x1e7f9746320>]"
      ]
     },
     "execution_count": 29,
     "metadata": {},
     "output_type": "execute_result"
    },
    {
     "data": {
      "image/png": "[encoded data removed]",
      "text/plain": [
       "<Figure size 432x288 with 1 Axes>"
      ]
     },
     "metadata": {
      "needs_background": "light"
     },
     "output_type": "display_data"
    }
   ],
   "source": [
    "plt.plot(losses)"
   ]
  },
  {
   "cell_type": "code",
   "execution_count": 30,
   "metadata": {
    "collapsed": false,
    "jupyter": {
     "outputs_hidden": false
    },
    "pycharm": {
     "is_executing": false,
     "name": "#%%\n"
    }
   },
   "outputs": [
    {
     "data": {
      "text/plain": [
       "<matplotlib.image.AxesImage at 0x1e7f97aa908>"
      ]
     },
     "execution_count": 30,
     "metadata": {},
     "output_type": "execute_result"
    },
    {
     "data": {
      "image/png": "[encoded data removed]",
      "text/plain": [
       "<Figure size 288x1152 with 1 Axes>"
      ]
     },
     "metadata": {
      "needs_background": "light"
     },
     "output_type": "display_data"
    }
   ],
   "source": [
    "predseq = []\n",
    "state = net.getInitialStates()\n",
    "input = torch.rand(1,1,4)\n",
    "for x in range(20):\n",
    "    \n",
    "    output, state = net(input, state)\n",
    "    input=output.view(1,1,4)\n",
    "    next = np.asarray([output > 0.5][0])[0][0]\n",
    "    predseq.append(next)\n",
    "        \n",
    "plt.matshow(predseq)"
   ]
  },
  {
   "cell_type": "code",
   "execution_count": 81,
   "metadata": {
    "collapsed": false,
    "jupyter": {
     "outputs_hidden": false
    },
    "pycharm": {
     "is_executing": false,
     "name": "#%%\n"
    }
   },
   "outputs": [],
   "source": []
  },
  {
   "cell_type": "code",
   "execution_count": null,
   "metadata": {
    "collapsed": false,
    "jupyter": {
     "outputs_hidden": false
    },
    "pycharm": {
     "name": "#%%\n"
    }
   },
   "outputs": [],
   "source": [
    "\n"
   ]
  }
 ],
 "metadata": {
  "kernelspec": {
   "display_name": "Python 3",
   "language": "python",
   "name": "python3"
  },
  "language_info": {
   "codemirror_mode": {
    "name": "ipython",
    "version": 3
   },
   "file_extension": ".py",
   "mimetype": "text/x-python",
   "name": "python",
   "nbconvert_exporter": "python",
   "pygments_lexer": "ipython3",
   "version": "3.6.8"
  },
  "pycharm": {
   "stem_cell": {
    "cell_type": "raw",
    "metadata": {
     "collapsed": false
    },
    "source": []
   }
  }
 },
 "nbformat": 4,
 "nbformat_minor": 4
}
