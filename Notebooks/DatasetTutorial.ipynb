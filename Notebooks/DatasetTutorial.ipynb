{
 "cells": [
  {
   "cell_type": "markdown",
   "metadata": {},
   "source": [
    "# This notebook should be used as a guide for creating dataloaders in Pytorch\n",
    "Official documentation: https://pytorch.org/docs/stable/data.html"
   ]
  },
  {
   "cell_type": "markdown",
   "metadata": {},
   "source": [
    "## First, import basic functionalities that you may need"
   ]
  },
  {
   "cell_type": "code",
   "execution_count": 1,
   "metadata": {},
   "outputs": [],
   "source": [
    "import numpy as np\n",
    "import os\n",
    "from glob import glob #glob is used to search for paths by using regex and variable text. e.g.: glob(\"./dataset/*.mid\")\n",
    "import pretty_midi\n",
    "import matplotlib.pyplot as plt\n",
    "import pandas as pd\n",
    "import seaborn as sns\n",
    "import random"
   ]
  },
  {
   "cell_type": "markdown",
   "metadata": {},
   "source": [
    "## Second, import the two functions that you'll need"
   ]
  },
  {
   "cell_type": "code",
   "execution_count": 2,
   "metadata": {},
   "outputs": [],
   "source": [
    "#this are the basic functions in Pytorch for Dataset/Dataloader Creation\n",
    "from torch.utils.data import Dataset, DataLoader\n",
    "#in case we were dealing with CV\n",
    "#from torchvision import transforms, utils"
   ]
  },
  {
   "cell_type": "markdown",
   "metadata": {},
   "source": [
    "So, basically, and if I've understood correctly, we have two functions that we are going to use:\n",
    "- Dataset: we'll use it to define our class (which will become a child of Dataset). It can be map-style or iterable-style. Normally we will use map-style, which means that the class must contain two protocols (mandatory)--> __getitem()__ and __len()__\n",
    "- DataLoader: function that will call our batches of our Dataset. If our dataset is well defined and we don't need anything fancy (...) the default DataLoader should work just fine (Don't worry be happy)"
   ]
  },
  {
   "cell_type": "code",
   "execution_count": 3,
   "metadata": {},
   "outputs": [],
   "source": [
    "def get_midi_files(source_path=\"../dataset/maestro-v1.0.0/**/*.midi\",splits=(0.8,0.1,0.1),seed_int=666):\n",
    "    if type(splits)!=tuple or sum(splits)!=1 or len(splits)!=3:\n",
    "      raise Exception(\"splits should be a tuple of 3 doubles and the sum its element equal to 1\")\n",
    "    \n",
    "    list_all_midi = glob(source_path)\n",
    "    random.seed(seed_int)\n",
    "    random.shuffle(list_all_midi)\n",
    "\n",
    "    len_train=round(len(list_all_midi)*splits[0])\n",
    "    len_val=round(len(list_all_midi)*splits[1])\n",
    "    len_test=len(list_all_midi)-len_train-len_val\n",
    "    \n",
    "    return list_all_midi[:len_train],list_all_midi[len_train:len_val+len_train],list_all_midi[len_val+len_train:]\n",
    "\n",
    "midi_files=get_midi_files()"
   ]
  },
  {
   "cell_type": "code",
   "execution_count": 4,
   "metadata": {},
   "outputs": [],
   "source": [
    "def get_notes(midi_files=[\"\"]):\n",
    "\n",
    "    for idx_file,midi_file in enumerate(midi_files):\n",
    "\n",
    "        #print(\"%d/%d adding file %s\" % (idx_file+1,len(midi_files),os.path.basename(midi_file)))\n",
    "\n",
    "        #Read the midi_file as a pretty midi object\n",
    "        midi_score=pretty_midi.PrettyMIDI(midi_file)\n",
    "        #simplified way, we only deal with the first instrument\n",
    "        inst0=midi_score.instruments[0]\n",
    "        score_song=np.zeros((5,len(inst0.notes)))\n",
    "        end_time=midi_score.get_end_time()\n",
    "        for i,note in enumerate(inst0.notes):\n",
    "            if i!=0:\n",
    "                score_song[:,i]=np.array([note.start,note.end,note.pitch/128,(note.start-score_song[0,i-1])/note.velocity,(note.end-note.start)/note.velocity])\n",
    "            else:\n",
    "                score_song[:,i]=np.array([note.start,note.end,note.pitch/128,0,(note.end-note.start)/note.velocity])\n",
    "\n",
    "        if idx_file!=0:\n",
    "            score=np.concatenate((score,score_song),axis=1)\n",
    "        else:\n",
    "            score=score_song\n",
    "    #the result is a 2D np array of 3xN, where N represents the number of events in the song, \n",
    "    #and 3 are the components representing each event (pitch, distance to the previous and duration)\n",
    "    score_relative=score[2:,:].transpose()\n",
    "    \n",
    "    score_relative[:,0]=(score_relative[:,0]-score_relative[:,0].mean())/(score_relative[:,0].std())   \n",
    "    score_relative[:,1]=(score_relative[:,1]-score_relative[:,1].mean())/(score_relative[:,1].std())\n",
    "    score_relative[:,2]=(score_relative[:,2]-score_relative[:,2].mean())/(score_relative[:,2].std())\n",
    "    return score_relative   "
   ]
  },
  {
   "cell_type": "code",
   "execution_count": 10,
   "metadata": {},
   "outputs": [],
   "source": [
    "score=get_notes(midi_files[0][0:1])"
   ]
  },
  {
   "cell_type": "code",
   "execution_count": 11,
   "metadata": {},
   "outputs": [
    {
     "data": {
      "text/plain": [
       "1.0"
      ]
     },
     "execution_count": 11,
     "metadata": {},
     "output_type": "execute_result"
    }
   ],
   "source": [
    "score[:,1].std()"
   ]
  },
  {
   "cell_type": "code",
   "execution_count": 5,
   "metadata": {},
   "outputs": [],
   "source": [
    "#Let's define our dataset class\n",
    "#we will allway have an _init__ function plus the two functions mentioned above. All of them will have self as an input. Also, __getitem__() will have idx as an input\n",
    "\n",
    "class MusicData(Dataset):\n",
    "    def __init__(self,seq_len=25,midi_files=[]):\n",
    "        self.notes=self.get_notes(midi_files)\n",
    "        self.seq_len=seq_len\n",
    "    \n",
    "    def __getitem__(self,idx):\n",
    "        x = self.notes[idx:(idx+self.seq_len*2)].astype(np.float32)\n",
    "        return (x[0:self.seq_len,:],x[self.seq_len:,:])\n",
    "    \n",
    "    def __len__(self):\n",
    "        return self.notes.shape[0]-self.seq_len*2\n",
    "        \n",
    "    def get_notes(self,midi_files=[\"\"]):\n",
    "\n",
    "        for idx_file,midi_file in enumerate(midi_files):\n",
    "            \n",
    "            #print(\"%d/%d adding file %s\" % (idx_file+1,len(midi_files),os.path.basename(midi_file)))\n",
    "            \n",
    "            #Read the midi_file as a pretty midi object\n",
    "            midi_score=pretty_midi.PrettyMIDI(midi_file)\n",
    "            #simplified way, we only deal with the first instrument\n",
    "            inst0=midi_score.instruments[0]\n",
    "            score_song=np.zeros((5,len(inst0.notes)))\n",
    "            end_time=midi_score.get_end_time()\n",
    "            for i,note in enumerate(inst0.notes):\n",
    "                if i!=0:\n",
    "                    score_song[:,i]=np.array([note.start,note.end,note.pitch/128,(note.start-score_song[0,i-1])/note.velocity,(note.end-note.start)/note.velocity])\n",
    "                else:\n",
    "                    score_song[:,i]=np.array([note.start,note.end,note.pitch/128,0,(note.end-note.start)/note.velocity])\n",
    "\n",
    "            if idx_file!=0:\n",
    "                score=np.concatenate((score,score_song),axis=1)\n",
    "            else:\n",
    "                score=score_song\n",
    "        #the result is a 2D np array of 3xN, where N represents the number of events in the song, \n",
    "        #and 3 are the components representing each event (pitch, distance to the previous and duration)\n",
    "        score_relative=score[2:,:].transpose()\n",
    "        \n",
    "        #normalize distance and lenght\n",
    "            #score_relative[:,1]=(score_relative[:,1]-score_relative[:,1].min())/(score_relative[:,1].max()-score_relative[:,1].min())\n",
    "            #score_relative[:,2]=(score_relative[:,2]-score_relative[:,2].min())/(score_relative[:,2].max()-score_relative[:,2].min())\n",
    "        score_relative[:,0]=(score_relative[:,0]-score_relative[:,0].mean())/(score_relative[:,0].std())   \n",
    "        score_relative[:,1]=(score_relative[:,1]-score_relative[:,1].mean())/(score_relative[:,1].std())\n",
    "        score_relative[:,2]=(score_relative[:,2]-score_relative[:,2].mean())/(score_relative[:,2].std())\n",
    "        \n",
    "        return score_relative    \n"
   ]
  },
  {
   "cell_type": "code",
   "execution_count": 34,
   "metadata": {},
   "outputs": [
    {
     "name": "stdout",
     "output_type": "stream",
     "text": [
      "DONE LOADING DATA\n"
     ]
    }
   ],
   "source": [
    "dataset_train = MusicData(seq_len=10, midi_files=midi_files[0][:10])\n",
    "dataset_test = MusicData(seq_len=10, midi_files=midi_files[1][:10])\n",
    "dataset_val = MusicData(seq_len=10, midi_files=midi_files[2][:10])\n",
    "\n",
    "print(\"DONE LOADING DATA\")"
   ]
  },
  {
   "cell_type": "code",
   "execution_count": 35,
   "metadata": {},
   "outputs": [],
   "source": [
    "BATCH_SIZE_TRAIN=50\n",
    "BATCH_SIZE_VAL=15\n",
    "BATCH_SIZE_TEST=50\n",
    "\n",
    "\n",
    "training_generator = DataLoader(dataset_train, batch_size=BATCH_SIZE_TRAIN, shuffle=True)\n",
    "validating_generator = DataLoader(dataset_val, batch_size=BATCH_SIZE_VAL, shuffle=True)\n",
    "testing_generator = DataLoader(dataset_test, batch_size=BATCH_SIZE_TEST, shuffle=True)"
   ]
  },
  {
   "cell_type": "code",
   "execution_count": 8,
   "metadata": {},
   "outputs": [
    {
     "name": "stdout",
     "output_type": "stream",
     "text": [
      "tensor([ 0.1061, -0.0170,  0.3546])\n",
      "tensor([ 0.6628, -0.0096, -0.1560])\n",
      "tensor([-0.3115, -0.1506, -0.2219])\n",
      "tensor([ 1.3588, -0.0592, -0.1913])\n",
      "tensor([ 0.5932, -0.3834,  0.0338])\n",
      "tensor([ 0.4540,  0.2004, -0.1608])\n",
      "tensor([ 1.4979, -0.1457, -0.2371])\n",
      "tensor([-0.1027,  0.1198, -0.1517])\n",
      "tensor([ 0.8020, -0.4537,  0.1254])\n",
      "tensor([ 1.2892, -0.1457, -0.0036])\n"
     ]
    }
   ],
   "source": [
    "for i,batch in enumerate(training_generator):\n",
    "    print(batch[0][0][0]) #---> the first element represents the size of the sequence (input, output). then we have [Batch_size,seq_len,tensor_size]--> [50,10,3]\n",
    "    if (i+1)%10==0:\n",
    "        break"
   ]
  },
  {
   "cell_type": "markdown",
   "metadata": {},
   "source": [
    "## Creating an Model"
   ]
  },
  {
   "cell_type": "markdown",
   "metadata": {},
   "source": [
    "Let's start by creating the fundamentals of a model in Pytorch. First, what torch libraries should you import?\n",
    "- The essential should be ```import torch.nn as nn```. Your model will be a class inheriting from ```nn.Module```. This new class should always contain a ```__init__``` function and a ```forward``` function.\n",
    "- To complement your model creation, another important library is ```import torch.nn.functional as F```. This will include some of the same functions that you could find in nn.\n",
    "- If you plan to run the model in this same senction, then, you should also include ```import torch.optim as optim```"
   ]
  },
  {
   "cell_type": "code",
   "execution_count": 9,
   "metadata": {},
   "outputs": [],
   "source": [
    "import torch #for example to use torch.zero\n",
    "import torch.nn as nn\n",
    "import torch.optim as optim"
   ]
  },
  {
   "cell_type": "code",
   "execution_count": 10,
   "metadata": {},
   "outputs": [],
   "source": [
    "#lets define the our model as seq2seq LSTM\n",
    "class GRUpred(nn.Module):\n",
    "    def __init__(self,input_dim,rnn_dim=512,rnn_layers=2,bidirect=False):\n",
    "        super(GRUpred, self).__init__()\n",
    "        \n",
    "        self.input_dim=input_dim\n",
    "        self.rnn_dim=rnn_dim\n",
    "        self.rnn_layers=rnn_layers\n",
    "        self.bidirect=bidirect\n",
    "        \n",
    "        self.rnn=nn.GRU(input_size=input_dim,hidden_size=rnn_dim,num_layers=rnn_layers,batch_first=True,dropout=0.2,bidirectional=bidirect)\n",
    "        \n",
    "        self.regressor=nn.Sequential(nn.Linear(in_features=rnn_dim,out_features=rnn_dim),nn.Dropout(p=0.2),nn.Linear(in_features=rnn_dim,out_features=input_dim))\n",
    "        \n",
    "    def forward(self,input):\n",
    "        \n",
    "        batch_size=input.shape[0]\n",
    "        \n",
    "        h0=torch.zeros(self.rnn_layers*(1+int(self.bidirect)),batch_size,self.rnn_dim)\n",
    "        \n",
    "        output,hidden=self.rnn(input)\n",
    "        \n",
    "        output=self.regressor(hidden)\n",
    "        \n",
    "        return output"
   ]
  },
  {
   "cell_type": "code",
   "execution_count": 27,
   "metadata": {},
   "outputs": [],
   "source": [
    "device=torch.device(\"cuda\")\n",
    "model=GRUpred(input_dim=3)\n",
    "model_gpu=model.to(device)\n",
    "\n",
    "criterion=nn.MSELoss()\n",
    "optimizer=optim.Adam(model.parameters(),lr=1e-4)"
   ]
  },
  {
   "cell_type": "code",
   "execution_count": null,
   "metadata": {},
   "outputs": [
    {
     "name": "stderr",
     "output_type": "stream",
     "text": [
      "c:\\users\\marti\\.virtualenvs\\onlyuselydian-dlz89few\\lib\\site-packages\\torch\\nn\\modules\\loss.py:431: UserWarning: Using a target size (torch.Size([1, 3])) that is different to the input size (torch.Size([2, 1, 3])). This will likely lead to incorrect results due to broadcasting. Please ensure they have the same size.\n",
      "  return F.mse_loss(input, target, reduction=self.reduction)\n"
     ]
    },
    {
     "name": "stdout",
     "output_type": "stream",
     "text": [
      "Epoch 0, loss 0.9173637883821858\n",
      "Epoch 1, loss 0.8733064964983444\n",
      "Epoch 2, loss 0.8607943284553006\n",
      "Epoch 3, loss 0.8580849156698789\n",
      "Epoch 4, loss 0.8455308609256825\n",
      "Epoch 5, loss 0.8275039218288446\n",
      "Epoch 6, loss 0.8085174722249511\n",
      "Epoch 7, loss 0.7853561477996798\n"
     ]
    }
   ],
   "source": [
    "EPOCHS=100\n",
    "\n",
    "loss_list=[]\n",
    "loss_local=[]\n",
    "\n",
    "for epoch in range(EPOCHS):\n",
    "    \n",
    "    for i,batch in enumerate(training_generator):\n",
    "        \n",
    "        x=batch[0].to(device)\n",
    "        y=batch[1].to(device)\n",
    "        \n",
    "        y_hat=model_gpu.train()(x)\n",
    "        \n",
    "        loss=criterion(y_hat,y[:,-1])\n",
    "        \n",
    "        # Zero gradients, perform a backward pass, and update the weights.\n",
    "        \n",
    "        \n",
    "        \n",
    "        optimizer.zero_grad()\n",
    "        loss.backward()\n",
    "        optimizer.step()\n",
    "        \n",
    "        loss_local.append(loss.item())\n",
    "        \n",
    "\n",
    "    loss_list.append(np.asarray(loss_local).mean())\n",
    "    print(\"Epoch {0}, loss {1}\".format(epoch,np.asarray(loss_local).mean()))\n",
    "    loss_local=[]\n",
    "        "
   ]
  },
  {
   "cell_type": "code",
   "execution_count": 152,
   "metadata": {},
   "outputs": [],
   "source": [
    "a=model.eval()(batch[0].to(device))"
   ]
  },
  {
   "cell_type": "code",
   "execution_count": 154,
   "metadata": {},
   "outputs": [
    {
     "data": {
      "text/plain": [
       "tensor(0.1537, device='cuda:0', grad_fn=<MaxBackward1>)"
      ]
     },
     "execution_count": 154,
     "metadata": {},
     "output_type": "execute_result"
    }
   ],
   "source": [
    "a[:,0].max()"
   ]
  },
  {
   "cell_type": "code",
   "execution_count": 140,
   "metadata": {},
   "outputs": [],
   "source": [
    "b=batch[1][0]"
   ]
  },
  {
   "cell_type": "code",
   "execution_count": 141,
   "metadata": {},
   "outputs": [
    {
     "data": {
      "text/plain": [
       "tensor([[ 0.9989,  0.5746,  1.9861],\n",
       "        [ 1.1301,  0.0688, -0.1724],\n",
       "        [-2.1501,  0.1469, -0.2096],\n",
       "        [ 1.2613, -0.3058, -0.0257],\n",
       "        [ 1.3925,  0.0173, -0.2524],\n",
       "        [-1.6909, -0.0802, -0.2110],\n",
       "        [-1.3629, -0.0810, -0.2604],\n",
       "        [-0.9036, -0.0535, -0.2653],\n",
       "        [ 0.6052, -0.1450, -0.2254],\n",
       "        [ 0.4740, -0.1351,  0.0532]])"
      ]
     },
     "execution_count": 141,
     "metadata": {},
     "output_type": "execute_result"
    }
   ],
   "source": [
    "b\n"
   ]
  },
  {
   "cell_type": "code",
   "execution_count": 33,
   "metadata": {},
   "outputs": [],
   "source": [
    "loss=criterion(a,b.to(device))"
   ]
  },
  {
   "cell_type": "code",
   "execution_count": 34,
   "metadata": {},
   "outputs": [
    {
     "data": {
      "text/plain": [
       "tensor(0.0032, device='cuda:0', grad_fn=<MseLossBackward>)"
      ]
     },
     "execution_count": 34,
     "metadata": {},
     "output_type": "execute_result"
    }
   ],
   "source": [
    "loss"
   ]
  },
  {
   "cell_type": "code",
   "execution_count": 138,
   "metadata": {},
   "outputs": [
    {
     "data": {
      "text/plain": [
       "1257"
      ]
     },
     "execution_count": 138,
     "metadata": {},
     "output_type": "execute_result"
    }
   ],
   "source": [
    "len(loss_list)"
   ]
  },
  {
   "cell_type": "code",
   "execution_count": 33,
   "metadata": {},
   "outputs": [
    {
     "data": {
      "text/plain": [
       "[<matplotlib.lines.Line2D at 0x2a1a792fe48>]"
      ]
     },
     "execution_count": 33,
     "metadata": {},
     "output_type": "execute_result"
    },
    {
     "data": {
      "image/png": "[encoded data removed]",
      "text/plain": [
       "<Figure size 432x288 with 1 Axes>"
      ]
     },
     "metadata": {
      "needs_background": "light"
     },
     "output_type": "display_data"
    }
   ],
   "source": [
    "plt.plot(loss_list)"
   ]
  },
  {
   "cell_type": "code",
   "execution_count": null,
   "metadata": {},
   "outputs": [],
   "source": []
  }
 ],
 "metadata": {
  "kernelspec": {
   "display_name": "Python 3",
   "language": "python",
   "name": "python3"
  },
  "language_info": {
   "codemirror_mode": {
    "name": "ipython",
    "version": 3
   },
   "file_extension": ".py",
   "mimetype": "text/x-python",
   "name": "python",
   "nbconvert_exporter": "python",
   "pygments_lexer": "ipython3",
   "version": "3.6.8"
  }
 },
 "nbformat": 4,
 "nbformat_minor": 4
}
