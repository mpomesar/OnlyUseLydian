{
 "cells": [
  {
   "cell_type": "code",
   "execution_count": 22,
   "metadata": {},
   "outputs": [],
   "source": [
    "import pypianoroll\n",
    "import numpy as np\n",
    "import matplotlib.pyplot as plt"
   ]
  },
  {
   "cell_type": "code",
   "execution_count": 5,
   "metadata": {},
   "outputs": [],
   "source": [
    "filepath=\"dataset/bach1.mid\""
   ]
  },
  {
   "cell_type": "code",
   "execution_count": 6,
   "metadata": {},
   "outputs": [],
   "source": [
    "from pypianoroll import Multitrack\n",
    "\n",
    "# Parse a MIDI file to a `pypianoroll.Multitrack` instance\n",
    "another_multitrack = Multitrack(filepath)"
   ]
  },
  {
   "cell_type": "code",
   "execution_count": 21,
   "metadata": {},
   "outputs": [
    {
     "name": "stdout",
     "output_type": "stream",
     "text": [
      "(43920, 128)\n",
      "(43920, 128)\n",
      "(43920, 128)\n",
      "(43920, 128)\n",
      "(43920, 128)\n",
      "(43920, 128)\n",
      "(43920, 128)\n",
      "(43920, 128)\n",
      "(43920, 128)\n",
      "(43920, 128)\n",
      "(43920, 128)\n",
      "(43920, 128)\n"
     ]
    }
   ],
   "source": [
    "for track in another_multitrack.tracks:\n",
    "    print(track.pianoroll.shape)"
   ]
  },
  {
   "cell_type": "code",
   "execution_count": 14,
   "metadata": {},
   "outputs": [],
   "source": [
    "firstTrack=another_multitrack.tracks[1].pianoroll"
   ]
  },
  {
   "cell_type": "code",
   "execution_count": 28,
   "metadata": {},
   "outputs": [],
   "source": [
    "pitch=np.argmax(firstTrack,axis=1)"
   ]
  },
  {
   "cell_type": "code",
   "execution_count": 31,
   "metadata": {},
   "outputs": [
    {
     "ename": "ValueError",
     "evalue": "The truth value of an array with more than one element is ambiguous. Use a.any() or a.all()",
     "output_type": "error",
     "traceback": [
      "\u001b[1;31m---------------------------------------------------------------------------\u001b[0m",
      "\u001b[1;31mValueError\u001b[0m                                Traceback (most recent call last)",
      "\u001b[1;32m<ipython-input-31-62e095138ef7>\u001b[0m in \u001b[0;36m<module>\u001b[1;34m\u001b[0m\n\u001b[1;32m----> 1\u001b[1;33m \u001b[0mplt\u001b[0m\u001b[1;33m.\u001b[0m\u001b[0mshow\u001b[0m\u001b[1;33m(\u001b[0m\u001b[0mpitch\u001b[0m\u001b[1;33m)\u001b[0m\u001b[1;33m\u001b[0m\u001b[1;33m\u001b[0m\u001b[0m\n\u001b[0m",
      "\u001b[1;32mc:\\users\\marti\\.virtualenvs\\onlyuselydian-dlz89few\\lib\\site-packages\\matplotlib\\pyplot.py\u001b[0m in \u001b[0;36mshow\u001b[1;34m(*args, **kw)\u001b[0m\n\u001b[0;32m    270\u001b[0m     \"\"\"\n\u001b[0;32m    271\u001b[0m     \u001b[1;32mglobal\u001b[0m \u001b[0m_show\u001b[0m\u001b[1;33m\u001b[0m\u001b[1;33m\u001b[0m\u001b[0m\n\u001b[1;32m--> 272\u001b[1;33m     \u001b[1;32mreturn\u001b[0m \u001b[0m_show\u001b[0m\u001b[1;33m(\u001b[0m\u001b[1;33m*\u001b[0m\u001b[0margs\u001b[0m\u001b[1;33m,\u001b[0m \u001b[1;33m**\u001b[0m\u001b[0mkw\u001b[0m\u001b[1;33m)\u001b[0m\u001b[1;33m\u001b[0m\u001b[1;33m\u001b[0m\u001b[0m\n\u001b[0m\u001b[0;32m    273\u001b[0m \u001b[1;33m\u001b[0m\u001b[0m\n\u001b[0;32m    274\u001b[0m \u001b[1;33m\u001b[0m\u001b[0m\n",
      "\u001b[1;32mc:\\users\\marti\\.virtualenvs\\onlyuselydian-dlz89few\\lib\\site-packages\\ipykernel\\pylab\\backend_inline.py\u001b[0m in \u001b[0;36mshow\u001b[1;34m(close, block)\u001b[0m\n\u001b[0;32m     47\u001b[0m         \u001b[1;31m# only call close('all') if any to close\u001b[0m\u001b[1;33m\u001b[0m\u001b[1;33m\u001b[0m\u001b[1;33m\u001b[0m\u001b[0m\n\u001b[0;32m     48\u001b[0m         \u001b[1;31m# close triggers gc.collect, which can be slow\u001b[0m\u001b[1;33m\u001b[0m\u001b[1;33m\u001b[0m\u001b[1;33m\u001b[0m\u001b[0m\n\u001b[1;32m---> 49\u001b[1;33m         \u001b[1;32mif\u001b[0m \u001b[0mclose\u001b[0m \u001b[1;32mand\u001b[0m \u001b[0mGcf\u001b[0m\u001b[1;33m.\u001b[0m\u001b[0mget_all_fig_managers\u001b[0m\u001b[1;33m(\u001b[0m\u001b[1;33m)\u001b[0m\u001b[1;33m:\u001b[0m\u001b[1;33m\u001b[0m\u001b[1;33m\u001b[0m\u001b[0m\n\u001b[0m\u001b[0;32m     50\u001b[0m             \u001b[0mmatplotlib\u001b[0m\u001b[1;33m.\u001b[0m\u001b[0mpyplot\u001b[0m\u001b[1;33m.\u001b[0m\u001b[0mclose\u001b[0m\u001b[1;33m(\u001b[0m\u001b[1;34m'all'\u001b[0m\u001b[1;33m)\u001b[0m\u001b[1;33m\u001b[0m\u001b[1;33m\u001b[0m\u001b[0m\n\u001b[0;32m     51\u001b[0m \u001b[1;33m\u001b[0m\u001b[0m\n",
      "\u001b[1;31mValueError\u001b[0m: The truth value of an array with more than one element is ambiguous. Use a.any() or a.all()"
     ]
    }
   ],
   "source": [
    "plt.show(pitch)"
   ]
  },
  {
   "cell_type": "code",
   "execution_count": 16,
   "metadata": {},
   "outputs": [
    {
     "data": {
      "text/plain": [
       "array([  0,   0,   0,   0,   0,   0,   0,   0,   0,   0,   0,   0,   0,\n",
       "         0,   0,   0,   0,   0,   0,   0,   0,   0,   0,   0,   0,   0,\n",
       "         0,   0,   0,   0,   0,   0,   0,   0,   0,   0,   0,   0,   0,\n",
       "         0,   0,   0,   0,   0,   0, 127,   0,   0,   0,   0,   0,   0,\n",
       "         0,   0,   0,   0,   0,   0,   0,   0,   0,   0,   0,   0,   0,\n",
       "         0,   0,   0,   0,   0,   0,   0,   0,   0,   0,   0,   0,   0,\n",
       "         0,   0,   0,   0,   0,   0,   0,   0,   0,   0,   0,   0,   0,\n",
       "         0,   0,   0,   0,   0,   0,   0,   0,   0,   0,   0,   0,   0,\n",
       "         0,   0,   0,   0,   0,   0,   0,   0,   0,   0,   0,   0,   0,\n",
       "         0,   0,   0,   0,   0,   0,   0,   0,   0,   0,   0], dtype=uint8)"
      ]
     },
     "execution_count": 16,
     "metadata": {},
     "output_type": "execute_result"
    }
   ],
   "source": [
    "firstTrack[22][:]"
   ]
  },
  {
   "cell_type": "code",
   "execution_count": 17,
   "metadata": {},
   "outputs": [
    {
     "name": "stdout",
     "output_type": "stream",
     "text": [
      "time  28  pitch  45 127\n",
      "time  29  pitch  45 127\n",
      "time  30  pitch  45 127\n",
      "time  31  pitch  45 127\n",
      "time  32  pitch  45 127\n",
      "time  33  pitch  45 127\n",
      "time  34  pitch  45 127\n",
      "time  36  pitch  57 127\n",
      "time  37  pitch  57 127\n",
      "time  38  pitch  57 127\n",
      "time  39  pitch  57 127\n",
      "time  40  pitch  57 127\n",
      "time  41  pitch  57 127\n",
      "time  42  pitch  57 127\n",
      "time  102  pitch  57 127\n",
      "time  103  pitch  57 127\n",
      "time  104  pitch  57 127\n",
      "time  105  pitch  57 127\n",
      "time  106  pitch  57 127\n",
      "time  107  pitch  57 127\n",
      "time  108  pitch  57 127\n",
      "time  109  pitch  57 127\n",
      "time  110  pitch  57 127\n",
      "time  111  pitch  57 127\n",
      "time  112  pitch  57 127\n",
      "time  113  pitch  57 127\n",
      "time  114  pitch  57 127\n",
      "time  115  pitch  57 127\n",
      "time  116  pitch  57 127\n",
      "time  117  pitch  57 127\n",
      "time  118  pitch  57 127\n",
      "time  119  pitch  57 127\n",
      "time  120  pitch  57 127\n",
      "time  121  pitch  57 127\n",
      "time  122  pitch  57 127\n",
      "time  123  pitch  57 127\n",
      "time  124  pitch  57 127\n",
      "time  125  pitch  57 127\n",
      "time  126  pitch  57 127\n",
      "time  127  pitch  57 127\n",
      "time  128  pitch  57 127\n",
      "time  129  pitch  57 127\n",
      "time  130  pitch  69 127\n",
      "time  191  pitch  69 127\n",
      "time  192  pitch  69 127\n",
      "time  193  pitch  69 127\n",
      "time  194  pitch  69 127\n",
      "time  195  pitch  69 127\n",
      "time  196  pitch  69 127\n",
      "time  197  pitch  69 127\n",
      "time  198  pitch  69 127\n",
      "time  199  pitch  69 127\n",
      "time  200  pitch  69 127\n"
     ]
    }
   ],
   "source": [
    "last_note=-1\n",
    "for i in range(28,firstTrack.shape[0]):\n",
    "    if firstTrack[i][:].mean()>0:\n",
    "        #if last_note!=np.argmax(firstTrack[i][:]):\n",
    "        last_note=np.argmax(firstTrack[i][:])\n",
    "        print(\"time \",i,\" pitch \",np.argmax(firstTrack[i][:]),max(firstTrack[i][:]))\n",
    "        if i==200:\n",
    "            break\n"
   ]
  },
  {
   "cell_type": "code",
   "execution_count": null,
   "metadata": {},
   "outputs": [],
   "source": []
  }
 ],
 "metadata": {
  "kernelspec": {
   "display_name": "Python 3",
   "language": "python",
   "name": "python3"
  },
  "language_info": {
   "codemirror_mode": {
    "name": "ipython",
    "version": 3
   },
   "file_extension": ".py",
   "mimetype": "text/x-python",
   "name": "python",
   "nbconvert_exporter": "python",
   "pygments_lexer": "ipython3",
   "version": "3.6.8"
  }
 },
 "nbformat": 4,
 "nbformat_minor": 4
}
